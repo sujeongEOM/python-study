{
  "nbformat": 4,
  "nbformat_minor": 0,
  "metadata": {
    "colab": {
      "name": "python_코딩도장.ipynb",
      "provenance": [],
      "authorship_tag": "ABX9TyNXcWqvfJwjs7a+3TFuCo6G",
      "include_colab_link": true
    },
    "kernelspec": {
      "name": "python3",
      "display_name": "Python 3"
    },
    "language_info": {
      "name": "python"
    }
  },
  "cells": [
    {
      "cell_type": "markdown",
      "metadata": {
        "id": "view-in-github",
        "colab_type": "text"
      },
      "source": [
        "<a href=\"https://colab.research.google.com/github/sujeongEOM/python-study/blob/main/python_%EC%BD%94%EB%94%A9%EB%8F%84%EC%9E%A5.ipynb\" target=\"_parent\"><img src=\"https://colab.research.google.com/assets/colab-badge.svg\" alt=\"Open In Colab\"/></a>"
      ]
    },
    {
      "cell_type": "code",
      "metadata": {
        "id": "4dxnC3cwZx3I"
      },
      "source": [
        "#Special Sort\n",
        "\n",
        "def SpecialSort(list):\n",
        "    minus, plus = [], []\n",
        "    for i in list:\n",
        "        if i < 0 :\n",
        "            minus.append(i)\n",
        "        else:\n",
        "            plus.append(i)\n",
        "    final_list = minus + plus\n",
        "    print(final_list)"
      ],
      "execution_count": null,
      "outputs": []
    },
    {
      "cell_type": "code",
      "metadata": {
        "colab": {
          "base_uri": "https://localhost:8080/"
        },
        "id": "gmw6jLdZZl2F",
        "outputId": "1df935a6-246c-4eda-9742-a6db2c6743bf"
      },
      "source": [
        "#숫자 카운터\n",
        "\n",
        "number = range(1,10000)\n",
        "eight = []\n",
        "for x in number:\n",
        "    for y in str(x):\n",
        "        eight.append(y)    \n",
        "print(eight.count('8'))"
      ],
      "execution_count": 1,
      "outputs": [
        {
          "output_type": "stream",
          "text": [
            "4000\n"
          ],
          "name": "stdout"
        }
      ]
    },
    {
      "cell_type": "code",
      "metadata": {
        "id": "taI3tY5Cifm5"
      },
      "source": [
        "#거리가 가장 짧은 것은?"
      ],
      "execution_count": 2,
      "outputs": []
    },
    {
      "cell_type": "code",
      "metadata": {
        "colab": {
          "base_uri": "https://localhost:8080/"
        },
        "id": "W7aMkwJeigLr",
        "outputId": "1344cbd6-8bba-4c1d-82ee-61d3504232ad"
      },
      "source": [
        "#제너레이터\n",
        "\n",
        "numbers = set(range(5000))\n",
        "generator = set()\n",
        "sum = 0\n",
        "\n",
        "for num in numbers:\n",
        "    for i in str(num):\n",
        "        num = num + int(i)\n",
        "    generator.add(num)\n",
        "\n",
        "self_numbers = numbers - generator\n",
        "\n",
        "for self in self_numbers:\n",
        "    sum = sum + self\n",
        "print(sum)"
      ],
      "execution_count": 3,
      "outputs": [
        {
          "output_type": "stream",
          "text": [
            "1227365\n"
          ],
          "name": "stdout"
        }
      ]
    },
    {
      "cell_type": "code",
      "metadata": {
        "id": "Az1gny8IijeS"
      },
      "source": [
        "#사이냅소프트 면접문제\n",
        "\n",
        "names = \"이유덕,이재영,권종표,이재영,박민호,강상희,이재영,김지완,최승혁,이성연,박영서,박민호,전경헌,송정환,김재성,이유덕,전경헌\".split(',')"
      ],
      "execution_count": 4,
      "outputs": []
    },
    {
      "cell_type": "code",
      "metadata": {
        "id": "0MTum9-pioD8"
      },
      "source": [
        "#탭을 공백으로\n",
        "\n",
        "def tabto4(filename):\n",
        "    f = open(filename, 'r')\n",
        "    tab_content = f.read()\n",
        "    f.close()\n",
        "\n",
        "    space_content = tab_content.replace('\\t', ' '*4)\n",
        "\n",
        "    f = open(filename, 'w')\n",
        "    f.write(space_content)\n",
        "    f.close()   "
      ],
      "execution_count": 5,
      "outputs": []
    },
    {
      "cell_type": "code",
      "metadata": {
        "colab": {
          "base_uri": "https://localhost:8080/"
        },
        "id": "e_Wgv9XBior_",
        "outputId": "d4b1e51c-5c11-4fbb-dc1d-0f4324466e92"
      },
      "source": [
        "#Multiples of 3 and 5\n",
        "\n",
        "result = 0\n",
        "for n in range(1001):\n",
        "    if n %3 == 0 or n % 5 == 0:\n",
        "        result += n\n",
        "print(result)"
      ],
      "execution_count": 6,
      "outputs": [
        {
          "output_type": "stream",
          "text": [
            "234168\n"
          ],
          "name": "stdout"
        }
      ]
    },
    {
      "cell_type": "code",
      "metadata": {
        "id": "BybH8kwYirZU"
      },
      "source": [
        ""
      ],
      "execution_count": null,
      "outputs": []
    }
  ]
}