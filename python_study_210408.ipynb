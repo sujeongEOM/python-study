{
  "nbformat": 4,
  "nbformat_minor": 0,
  "metadata": {
    "colab": {
      "name": "python study_210408.ipynb",
      "provenance": [],
      "authorship_tag": "ABX9TyNTR+gckEkdfYmFdeReMhFF",
      "include_colab_link": true
    },
    "kernelspec": {
      "name": "python3",
      "display_name": "Python 3"
    },
    "language_info": {
      "name": "python"
    }
  },
  "cells": [
    {
      "cell_type": "markdown",
      "metadata": {
        "id": "view-in-github",
        "colab_type": "text"
      },
      "source": [
        "<a href=\"https://colab.research.google.com/github/sujeongEOM/python-study/blob/main/python_study_210408.ipynb\" target=\"_parent\"><img src=\"https://colab.research.google.com/assets/colab-badge.svg\" alt=\"Open In Colab\"/></a>"
      ]
    },
    {
      "cell_type": "code",
      "metadata": {
        "id": "FvB2DbKVmxHG",
        "colab": {
          "base_uri": "https://localhost:8080/"
        },
        "outputId": "c4ec6262-3bc0-44dc-9765-6de1f5e732e2"
      },
      "source": [
        "a=0\n",
        "p=0\n",
        "while a<11:\n",
        "  if a%3 == 0:\n",
        "    p=p+a\n",
        "  a=a+1\n",
        "\n",
        "print(p)"
      ],
      "execution_count": 9,
      "outputs": [
        {
          "output_type": "stream",
          "text": [
            "18\n"
          ],
          "name": "stdout"
        }
      ]
    },
    {
      "cell_type": "code",
      "metadata": {
        "id": "XGoFWjg0oexN",
        "colab": {
          "base_uri": "https://localhost:8080/"
        },
        "outputId": "6a23ccfa-dc90-4207-8f74-ea5bd37211b2"
      },
      "source": [
        "print (\"hellol world\")"
      ],
      "execution_count": 3,
      "outputs": [
        {
          "output_type": "stream",
          "text": [
            "hellol world\n"
          ],
          "name": "stdout"
        }
      ]
    },
    {
      "cell_type": "code",
      "metadata": {
        "colab": {
          "base_uri": "https://localhost:8080/"
        },
        "id": "e9_Y43-OuYsw",
        "outputId": "3de49da5-7be3-4729-f265-28ef19c944e6"
      },
      "source": [
        "number=input('숫자를 입력하셍요: ')"
      ],
      "execution_count": 13,
      "outputs": [
        {
          "output_type": "stream",
          "text": [
            "숫자를 입력하셍요: 수정\n"
          ],
          "name": "stdout"
        }
      ]
    },
    {
      "cell_type": "code",
      "metadata": {
        "colab": {
          "base_uri": "https://localhost:8080/"
        },
        "id": "V8HnRF6Fxj1Y",
        "outputId": "d799d52e-5f54-49d5-d33e-226d94b86f6a"
      },
      "source": [
        "print (number)"
      ],
      "execution_count": 14,
      "outputs": [
        {
          "output_type": "stream",
          "text": [
            "수정\n"
          ],
          "name": "stdout"
        }
      ]
    },
    {
      "cell_type": "code",
      "metadata": {
        "colab": {
          "base_uri": "https://localhost:8080/"
        },
        "id": "8qKXAX24xuQy",
        "outputId": "d37beef8-e16d-4db7-d272-1d1a123b452a"
      },
      "source": [
        "print('life''is''too short')"
      ],
      "execution_count": 19,
      "outputs": [
        {
          "output_type": "stream",
          "text": [
            "lifeistoo short\n"
          ],
          "name": "stdout"
        }
      ]
    },
    {
      "cell_type": "code",
      "metadata": {
        "colab": {
          "base_uri": "https://localhost:8080/"
        },
        "id": "rhafPLhVyGrM",
        "outputId": "29d878db-ca26-4318-94e1-a48eddc8e8d2"
      },
      "source": [
        "print('life','is','too short')"
      ],
      "execution_count": 20,
      "outputs": [
        {
          "output_type": "stream",
          "text": [
            "life is too short\n"
          ],
          "name": "stdout"
        }
      ]
    },
    {
      "cell_type": "code",
      "metadata": {
        "colab": {
          "base_uri": "https://localhost:8080/"
        },
        "id": "wu7evdCj1Aan",
        "outputId": "e0b9bcc9-b37c-4639-97dd-613d7e00fc16"
      },
      "source": [
        "for i in range(10):\n",
        "  print(i, end='  ')"
      ],
      "execution_count": 27,
      "outputs": [
        {
          "output_type": "stream",
          "text": [
            "0  1  2  3  4  5  6  7  8  9  "
          ],
          "name": "stdout"
        }
      ]
    },
    {
      "cell_type": "code",
      "metadata": {
        "id": "XiYosOv01eCX"
      },
      "source": [
        "f=open('sujeong.txt', 'w')\n",
        "f.close()"
      ],
      "execution_count": 30,
      "outputs": []
    },
    {
      "cell_type": "code",
      "metadata": {
        "colab": {
          "base_uri": "https://localhost:8080/"
        },
        "id": "68ut3LYB2DwC",
        "outputId": "2d62216c-e5ab-4b25-ad9c-1517ab90eafd"
      },
      "source": [
        "f=open('새파일.txt', 'w')\n",
        "for i in range(1, 11):\n",
        "  data='%d번째 줄입니다.\\n'%i\n",
        "  f.write(data)\n",
        "f.close()\n",
        "\n",
        "f2=open('새파일.txt', 'r')\n",
        "print(f2.read())\n",
        "f2.close\n",
        "\n",
        "f3=open('새파일.txt', 'a')\n",
        "for i in range(11,20):\n",
        "  data=\"%d번째 줄입니다.\\n\"%i\n",
        "  f3.write(data)\n",
        "f3.close()\n",
        "\n",
        "f4=open('새파일.txt', 'r')\n",
        "print(f4.read())\n",
        "f4.close"
      ],
      "execution_count": 57,
      "outputs": [
        {
          "output_type": "stream",
          "text": [
            "1번째 줄입니다.\n",
            "2번째 줄입니다.\n",
            "3번째 줄입니다.\n",
            "4번째 줄입니다.\n",
            "5번째 줄입니다.\n",
            "6번째 줄입니다.\n",
            "7번째 줄입니다.\n",
            "8번째 줄입니다.\n",
            "9번째 줄입니다.\n",
            "10번째 줄입니다.\n",
            "\n",
            "1번째 줄입니다.\n",
            "2번째 줄입니다.\n",
            "3번째 줄입니다.\n",
            "4번째 줄입니다.\n",
            "5번째 줄입니다.\n",
            "6번째 줄입니다.\n",
            "7번째 줄입니다.\n",
            "8번째 줄입니다.\n",
            "9번째 줄입니다.\n",
            "10번째 줄입니다.\n",
            "11번째 줄입니다.\n",
            "12번째 줄입니다.\n",
            "13번째 줄입니다.\n",
            "14번째 줄입니다.\n",
            "15번째 줄입니다.\n",
            "16번째 줄입니다.\n",
            "17번째 줄입니다.\n",
            "18번째 줄입니다.\n",
            "19번째 줄입니다.\n",
            "\n"
          ],
          "name": "stdout"
        },
        {
          "output_type": "execute_result",
          "data": {
            "text/plain": [
              "<function TextIOWrapper.close>"
            ]
          },
          "metadata": {
            "tags": []
          },
          "execution_count": 57
        }
      ]
    },
    {
      "cell_type": "code",
      "metadata": {
        "colab": {
          "base_uri": "https://localhost:8080/",
          "height": 35
        },
        "id": "E_erAHj2LdFg",
        "outputId": "b4824540-d379-41be-debc-402a04bd0c14"
      },
      "source": [
        "def is_odd(x):\n",
        "  if x%2==0:\n",
        "    return (\"even\")\n",
        "  else: return (\"odd\")\n",
        "\n",
        "p=is_odd(10)\n",
        "p"
      ],
      "execution_count": 41,
      "outputs": [
        {
          "output_type": "execute_result",
          "data": {
            "application/vnd.google.colaboratory.intrinsic+json": {
              "type": "string"
            },
            "text/plain": [
              "'even'"
            ]
          },
          "metadata": {
            "tags": []
          },
          "execution_count": 41
        }
      ]
    },
    {
      "cell_type": "code",
      "metadata": {
        "colab": {
          "base_uri": "https://localhost:8080/"
        },
        "id": "8L738_UtX3f0",
        "outputId": "0fd4af74-b5a4-48ae-d2eb-f439f39a6fc7"
      },
      "source": [
        "def average(*arg):\n",
        "  m=0\n",
        "  for i in arg:\n",
        "    m+=i\n",
        "  return m/len(arg)\n",
        "\n",
        "p=average(1, 2, 3, 4, 5, 6, 7, 8)\n",
        "p"
      ],
      "execution_count": 45,
      "outputs": [
        {
          "output_type": "execute_result",
          "data": {
            "text/plain": [
              "4.5"
            ]
          },
          "metadata": {
            "tags": []
          },
          "execution_count": 45
        }
      ]
    },
    {
      "cell_type": "code",
      "metadata": {
        "colab": {
          "base_uri": "https://localhost:8080/"
        },
        "id": "EfrQDTz-aMSg",
        "outputId": "41afcc38-7b2d-440c-c42e-7d5d3f56e574"
      },
      "source": [
        "input1=input('첫번째 숫자를 입력하세요:')\n",
        "input2=input('두번째 숫자를 입력하세요:')\n",
        "\n",
        "total=int(input1) + int(input2)\n",
        "print('두 수의 합은 %s 입니다.' %total)"
      ],
      "execution_count": 52,
      "outputs": [
        {
          "output_type": "stream",
          "text": [
            "첫번째 숫자를 입력하세요:5\n",
            "두번째 숫자를 입력하세요:4\n",
            "두 수의 합은 9 입니다.\n"
          ],
          "name": "stdout"
        }
      ]
    },
    {
      "cell_type": "code",
      "metadata": {
        "colab": {
          "base_uri": "https://localhost:8080/"
        },
        "id": "u1nRfg_zba7G",
        "outputId": "bd0700bb-3a32-497e-8b26-7cca598b930e"
      },
      "source": [
        "f1 = open(\"test.txt\", 'w')\n",
        "f1.write(\"Life is too short\")\n",
        "f.close()\n",
        "\n",
        "f2 = open(\"test.txt\", 'r')\n",
        "p=f2.read()\n",
        "print(p)\n",
        "f.close()"
      ],
      "execution_count": 53,
      "outputs": [
        {
          "output_type": "stream",
          "text": [
            "Life is too short\n"
          ],
          "name": "stdout"
        }
      ]
    },
    {
      "cell_type": "code",
      "metadata": {
        "colab": {
          "base_uri": "https://localhost:8080/"
        },
        "id": "zv8lBTEicYEv",
        "outputId": "431f666e-a54d-464d-a87e-dbd1f0adbd15"
      },
      "source": [
        "sujeong=input('입력하세요:')\n",
        "\n",
        "f=open('world.txt', 'a')\n",
        "f.write(sujeong)\n",
        "f.write(\"\\n\")\n",
        "f.close()\n",
        "\n",
        "f=open('world.txt', 'r')\n",
        "print(f.read())\n",
        "f.close()"
      ],
      "execution_count": 63,
      "outputs": [
        {
          "output_type": "stream",
          "text": [
            "입력하세요:54as5df4a5sf\n",
            "54as5df4a5sf\n",
            "\n"
          ],
          "name": "stdout"
        }
      ]
    },
    {
      "cell_type": "code",
      "metadata": {
        "colab": {
          "base_uri": "https://localhost:8080/"
        },
        "id": "SRnnsXLCc_Jj",
        "outputId": "8a42697d-d8ac-4ea7-be89-d536d96befcd"
      },
      "source": [
        "f=open('apple.txt', 'w')\n",
        "f.write('''Life is too short\n",
        "you need java\n",
        "''')\n",
        "f.close()\n",
        "\n",
        "f = open('apple.txt', 'r')\n",
        "body = f.read()\n",
        "f.close()\n",
        "\n",
        "body = body.replace('java', 'python')\n",
        "\n",
        "f = open('apple.txt', 'w')\n",
        "f.write(body)\n",
        "f.close()\n",
        "\n",
        "f=open('apple.txt', 'r')\n",
        "print(f.read())"
      ],
      "execution_count": 67,
      "outputs": [
        {
          "output_type": "stream",
          "text": [
            "Life is too short\n",
            "you need python\n",
            "\n"
          ],
          "name": "stdout"
        }
      ]
    },
    {
      "cell_type": "code",
      "metadata": {
        "colab": {
          "base_uri": "https://localhost:8080/"
        },
        "id": "sOCPIoEjdQOD",
        "outputId": "419904e7-963f-42ae-f491-5fa390528722"
      },
      "source": [
        "class FourCal:\n",
        "    pass\n",
        "\n",
        "a=FourCal()\n",
        "type(a)"
      ],
      "execution_count": 69,
      "outputs": [
        {
          "output_type": "execute_result",
          "data": {
            "text/plain": [
              "__main__.FourCal"
            ]
          },
          "metadata": {
            "tags": []
          },
          "execution_count": 69
        }
      ]
    },
    {
      "cell_type": "code",
      "metadata": {
        "colab": {
          "base_uri": "https://localhost:8080/"
        },
        "id": "mRRHMTnv-SrZ",
        "outputId": "4c57d4e0-365b-47bc-9554-0860110f699f"
      },
      "source": [
        "class FourCal:\n",
        "  def setdata(self, first, second):\n",
        "    self.first=first\n",
        "    self.second=second\n",
        "\n",
        "a=FourCal()\n",
        "\n",
        "a.setdata(4, 2)\n",
        "print(a.first)"
      ],
      "execution_count": 74,
      "outputs": [
        {
          "output_type": "stream",
          "text": [
            "4\n"
          ],
          "name": "stdout"
        }
      ]
    },
    {
      "cell_type": "code",
      "metadata": {
        "colab": {
          "base_uri": "https://localhost:8080/"
        },
        "id": "M1V2S4M0DNCd",
        "outputId": "82a24919-c16f-40db-a875-062b9b0fff67"
      },
      "source": [
        "class FourCal:\n",
        "  def setdata(self, first, second):\n",
        "    self.first=first\n",
        "    self.second=second\n",
        "  \n",
        "  def add(self):\n",
        "    result= self.first + self.second\n",
        "    return result\n",
        "\n",
        "  def mul(self):\n",
        "    result= self.first * self.second\n",
        "    return result\n",
        "\n",
        "  def sub(self):\n",
        "    result= self.first - self.second\n",
        "    return result\n",
        "    \n",
        "  def div(self):\n",
        "    result= self.first / self.second\n",
        "    return result\n",
        "\n",
        "\n",
        "a=FourCal()\n",
        "b=FourCal()\n",
        "a.setdata(4,2)\n",
        "b.setdata(3,8)\n",
        "\n",
        "a.add()\n"
      ],
      "execution_count": 83,
      "outputs": [
        {
          "output_type": "execute_result",
          "data": {
            "text/plain": [
              "6"
            ]
          },
          "metadata": {
            "tags": []
          },
          "execution_count": 83
        }
      ]
    },
    {
      "cell_type": "code",
      "metadata": {
        "colab": {
          "base_uri": "https://localhost:8080/"
        },
        "id": "Pv5bqQvpJdyg",
        "outputId": "c0b75a73-e9d7-44cc-ae37-b54ba44ca049"
      },
      "source": [
        "a.mul()"
      ],
      "execution_count": 82,
      "outputs": [
        {
          "output_type": "execute_result",
          "data": {
            "text/plain": [
              "8"
            ]
          },
          "metadata": {
            "tags": []
          },
          "execution_count": 82
        }
      ]
    },
    {
      "cell_type": "code",
      "metadata": {
        "colab": {
          "base_uri": "https://localhost:8080/"
        },
        "id": "oS8u43UoMtlf",
        "outputId": "8b50ce08-3f52-4919-f91d-0388fca6865c"
      },
      "source": [
        "b.sub()"
      ],
      "execution_count": 84,
      "outputs": [
        {
          "output_type": "execute_result",
          "data": {
            "text/plain": [
              "-5"
            ]
          },
          "metadata": {
            "tags": []
          },
          "execution_count": 84
        }
      ]
    },
    {
      "cell_type": "code",
      "metadata": {
        "colab": {
          "base_uri": "https://localhost:8080/"
        },
        "id": "QzhhzHQmMvmW",
        "outputId": "fe258bcb-e3bd-4145-b100-f1a23733c406"
      },
      "source": [
        "b.div()"
      ],
      "execution_count": 85,
      "outputs": [
        {
          "output_type": "execute_result",
          "data": {
            "text/plain": [
              "0.375"
            ]
          },
          "metadata": {
            "tags": []
          },
          "execution_count": 85
        }
      ]
    },
    {
      "cell_type": "code",
      "metadata": {
        "colab": {
          "base_uri": "https://localhost:8080/"
        },
        "id": "BDxt7t6zMxOe",
        "outputId": "459ee780-4b2f-42a8-d224-005d1e2bb3c3"
      },
      "source": [
        "class MoreFourCal(FourCal):\n",
        "  pass\n",
        "\n",
        "a.mul()"
      ],
      "execution_count": 89,
      "outputs": [
        {
          "output_type": "execute_result",
          "data": {
            "text/plain": [
              "6"
            ]
          },
          "metadata": {
            "tags": []
          },
          "execution_count": 89
        }
      ]
    },
    {
      "cell_type": "code",
      "metadata": {
        "id": "nYeuHVYZPpeG"
      },
      "source": [
        "class MoreFourCal(FourCal):\n",
        "  def pow(self):\n",
        "    result = self.first ** self.second\n",
        "    return result"
      ],
      "execution_count": 90,
      "outputs": []
    },
    {
      "cell_type": "code",
      "metadata": {
        "colab": {
          "base_uri": "https://localhost:8080/"
        },
        "id": "i78a0AvuQVne",
        "outputId": "3bcb4350-b91b-4782-8780-b422d703bbb3"
      },
      "source": [
        "a= MoreFourCal()\n",
        "a.setdata(2,4)\n",
        "a.pow()"
      ],
      "execution_count": 92,
      "outputs": [
        {
          "output_type": "execute_result",
          "data": {
            "text/plain": [
              "16"
            ]
          },
          "metadata": {
            "tags": []
          },
          "execution_count": 92
        }
      ]
    },
    {
      "cell_type": "code",
      "metadata": {
        "colab": {
          "base_uri": "https://localhost:8080/"
        },
        "id": "THEB-2qxQfLu",
        "outputId": "2790c5cb-09c0-4a15-af79-e67dcd3acf73"
      },
      "source": [
        "a= MoreFourCal()\n",
        "a.setdata(2,4)\n",
        "a.pow()"
      ],
      "execution_count": 95,
      "outputs": [
        {
          "output_type": "execute_result",
          "data": {
            "text/plain": [
              "16"
            ]
          },
          "metadata": {
            "tags": []
          },
          "execution_count": 95
        }
      ]
    },
    {
      "cell_type": "code",
      "metadata": {
        "id": "_TCGYPKwQmdF"
      },
      "source": [
        ""
      ],
      "execution_count": null,
      "outputs": []
    }
  ]
}