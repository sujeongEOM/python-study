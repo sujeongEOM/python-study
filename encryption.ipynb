{
  "nbformat": 4,
  "nbformat_minor": 0,
  "metadata": {
    "colab": {
      "name": "encryption.ipynb",
      "provenance": [],
      "authorship_tag": "ABX9TyNrr8va5VyCcuAmUMro/3CS",
      "include_colab_link": true
    },
    "kernelspec": {
      "name": "python3",
      "display_name": "Python 3"
    },
    "language_info": {
      "name": "python"
    }
  },
  "cells": [
    {
      "cell_type": "markdown",
      "metadata": {
        "id": "view-in-github",
        "colab_type": "text"
      },
      "source": [
        "<a href=\"https://colab.research.google.com/github/sujeongEOM/python-study/blob/main/encryption.ipynb\" target=\"_parent\"><img src=\"https://colab.research.google.com/assets/colab-badge.svg\" alt=\"Open In Colab\"/></a>"
      ]
    },
    {
      "cell_type": "code",
      "metadata": {
        "id": "u8rI9y-pxqTN"
      },
      "source": [
        "pip install pycryptodome"
      ],
      "execution_count": null,
      "outputs": []
    },
    {
      "cell_type": "code",
      "metadata": {
        "id": "SU9CaVya0RwJ"
      },
      "source": [
        "from google.colab import drive\n",
        "drive.mount('/content/drive')"
      ],
      "execution_count": null,
      "outputs": []
    },
    {
      "cell_type": "markdown",
      "metadata": {
        "id": "URwG-1AxQS6B"
      },
      "source": [
        "reference\n",
        "https://pycryptodome.readthedocs.io/en/latest/src/examples.html"
      ]
    },
    {
      "cell_type": "code",
      "metadata": {
        "id": "R82ttOr-xh7R"
      },
      "source": [
        "#Generate public key and private key\n",
        "\n",
        "from Crypto.PublicKey import RSA\n",
        "\n",
        "key = RSA.generate(2048)\n",
        "private_key = key.export_key()\n",
        "file_out = open(\"private.pem\", \"wb\")\n",
        "file_out.write(private_key)\n",
        "file_out.close()\n",
        "\n",
        "public_key = key.publickey().export_key()\n",
        "file_out = open(\"receiver.pem\", \"wb\")\n",
        "file_out.write(public_key)\n",
        "file_out.close()"
      ],
      "execution_count": null,
      "outputs": []
    },
    {
      "cell_type": "code",
      "metadata": {
        "id": "doqxiA-Rxl32"
      },
      "source": [
        "#Encrypt data with RSA\n",
        "\n",
        "from Crypto.PublicKey import RSA\n",
        "from Crypto.Random import get_random_bytes\n",
        "from Crypto.Cipher import AES, PKCS1_OAEP\n",
        "import pandas as pd\n",
        "\n",
        "#구글드라이브에서 암호화하려는 csv 파일 가져오기\n",
        "df = pd.read_csv(\"/content/drive/MyDrive/chestpa_BMD_20210414DXA.xls - Sheet1.csv\")\n",
        "\n",
        "#시리즈에서 리스트로 변환\n",
        "pt_nb = df['실명등록번호']\n",
        "pt_nb_list = pt_nb.values.tolist()\n",
        "final_list = []\n",
        "encrypted_list = []\n",
        "\n",
        "#리스트 요소 dtype=str, 암호화는 byte로 이루어지기에 byte로 변환\n",
        "for i in pt_nb_list:\n",
        "    final_data = i.encode()\n",
        "    final_list.append(final_data)\n",
        "\n",
        "for y in final_list:\n",
        "    file_out = open(\"encrypted_data.bin\", \"wb\")\n",
        "    recipient_key = RSA.import_key(open(\"receiver.pem\").read())\n",
        "    session_key = get_random_bytes(16)\n",
        "\n",
        "# Encrypt the session key with the public RSA key\n",
        "    cipher_rsa = PKCS1_OAEP.new(recipient_key)\n",
        "    enc_session_key = cipher_rsa.encrypt(session_key)\n",
        "\n",
        "# Encrypt the data with the AES session key\n",
        "    cipher_aes = AES.new(session_key, AES.MODE_EAX)\n",
        "    ciphertext, tag = cipher_aes.encrypt_and_digest(y)\n",
        "    [ file_out.write(x) for x in (enc_session_key, cipher_aes.nonce, tag, ciphertext) ]\n",
        "    encrypted_list.append(ciphertext)\n",
        "    file_out.close()\n",
        "\n",
        "encrypted_df = df.copy()\n",
        "encrypted_df['실명등록번호'] = encrypted_list\n",
        "\n",
        "encrypted_df.to_csv(\"/content/drive/MyDrive/Colab Notebooks/chestpa_BMD_20210414DXA_encrypted.csv\", mode='w')"
      ],
      "execution_count": null,
      "outputs": []
    },
    {
      "cell_type": "code",
      "metadata": {
        "id": "VoMv89nlybhF"
      },
      "source": [
        ""
      ],
      "execution_count": null,
      "outputs": []
    },
    {
      "cell_type": "code",
      "metadata": {
        "id": "KbSmi1yI7x61"
      },
      "source": [
        ""
      ],
      "execution_count": null,
      "outputs": []
    }
  ]
}