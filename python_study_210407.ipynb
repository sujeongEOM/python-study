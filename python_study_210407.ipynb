{
  "nbformat": 4,
  "nbformat_minor": 0,
  "metadata": {
    "colab": {
      "name": "python study_210407.ipynb",
      "provenance": [],
      "collapsed_sections": [],
      "authorship_tag": "ABX9TyNvb6DORSsrp28Dp93vL0C+",
      "include_colab_link": true
    },
    "kernelspec": {
      "name": "python3",
      "display_name": "Python 3"
    },
    "language_info": {
      "name": "python"
    }
  },
  "cells": [
    {
      "cell_type": "markdown",
      "metadata": {
        "id": "view-in-github",
        "colab_type": "text"
      },
      "source": [
        "<a href=\"https://colab.research.google.com/github/sujeongEOM/python-study/blob/main/python_study_210407.ipynb\" target=\"_parent\"><img src=\"https://colab.research.google.com/assets/colab-badge.svg\" alt=\"Open In Colab\"/></a>"
      ]
    },
    {
      "cell_type": "code",
      "metadata": {
        "id": "5dvnmrkPJqyq",
        "colab": {
          "base_uri": "https://localhost:8080/"
        },
        "outputId": "a7934a0d-5d3d-4d5f-c343-54907ed254cc"
      },
      "source": [
        "money = True\n",
        "if money:\n",
        "  print (\"택시를 타고 가라\")\n",
        "else:\n",
        "  print (\"걸어 가라\")"
      ],
      "execution_count": null,
      "outputs": [
        {
          "output_type": "stream",
          "text": [
            "택시를 타고 가라\n"
          ],
          "name": "stdout"
        }
      ]
    },
    {
      "cell_type": "code",
      "metadata": {
        "id": "Eurz-TjvjIIp",
        "colab": {
          "base_uri": "https://localhost:8080/"
        },
        "outputId": "b7b971af-3eb5-4229-df8e-d7d755fc00d4"
      },
      "source": [
        "money= True\n",
        "if money:\n",
        "  print (\"택시를\")\n",
        "  print (\"타고\")\n",
        "  print (\"가라\")"
      ],
      "execution_count": null,
      "outputs": [
        {
          "output_type": "stream",
          "text": [
            "택시를\n",
            "타고\n",
            "가라\n"
          ],
          "name": "stdout"
        }
      ]
    },
    {
      "cell_type": "code",
      "metadata": {
        "colab": {
          "base_uri": "https://localhost:8080/"
        },
        "id": "eN39_Fk0j8e3",
        "outputId": "b2eb5292-726c-4a31-e4e0-75d4962872a7"
      },
      "source": [
        "money = 2000\n",
        "if money >= 3000:\n",
        "  print (\"택시를 타고 가라\")\n",
        "else:\n",
        "  print ('걸어 가라')"
      ],
      "execution_count": null,
      "outputs": [
        {
          "output_type": "stream",
          "text": [
            "걸어 가라\n"
          ],
          "name": "stdout"
        }
      ]
    },
    {
      "cell_type": "code",
      "metadata": {
        "colab": {
          "base_uri": "https://localhost:8080/"
        },
        "id": "vTRpX3DBli6T",
        "outputId": "88643b73-bfd0-4991-fdca-f6dcb8bb7017"
      },
      "source": [
        "pocket = ['money', 'cellphone', 'mirror']\n",
        "if 'money' not in pocket:\n",
        "  pass\n",
        "else:\n",
        "  print (\"카드를 꺼내라\")"
      ],
      "execution_count": null,
      "outputs": [
        {
          "output_type": "stream",
          "text": [
            "카드를 꺼내라\n"
          ],
          "name": "stdout"
        }
      ]
    },
    {
      "cell_type": "code",
      "metadata": {
        "colab": {
          "base_uri": "https://localhost:8080/"
        },
        "id": "dvyaeO94nCWM",
        "outputId": "ffe78795-a7fd-467b-c6cc-b5c8158fb687"
      },
      "source": [
        "treeHit=0\n",
        "while treeHit<10:\n",
        "  treeHit = treeHit +1\n",
        "  print ('나무를 %d번 찍었습니다' % treeHit)\n",
        "  if treeHit ==10:\n",
        "    print ('나무 넘어갑니다')"
      ],
      "execution_count": null,
      "outputs": [
        {
          "output_type": "stream",
          "text": [
            "나무를 1번 찍었습니다\n",
            "나무를 2번 찍었습니다\n",
            "나무를 3번 찍었습니다\n",
            "나무를 4번 찍었습니다\n",
            "나무를 5번 찍었습니다\n",
            "나무를 6번 찍었습니다\n",
            "나무를 7번 찍었습니다\n",
            "나무를 8번 찍었습니다\n",
            "나무를 9번 찍었습니다\n",
            "나무를 10번 찍었습니다\n",
            "나무 넘어갑니다\n"
          ],
          "name": "stdout"
        }
      ]
    },
    {
      "cell_type": "code",
      "metadata": {
        "id": "H6v22s7tq39W"
      },
      "source": [
        "prompt = '''\n",
        "1. add\n",
        "2. del\n",
        "3. list\n",
        "4. quit\n",
        "\n",
        "Enter number: '''"
      ],
      "execution_count": null,
      "outputs": []
    },
    {
      "cell_type": "code",
      "metadata": {
        "colab": {
          "base_uri": "https://localhost:8080/"
        },
        "id": "HLJIeLRgu1gG",
        "outputId": "7eb6edc3-90e2-49a8-eeb4-909e0650dea4"
      },
      "source": [
        "number = 0\n",
        "while number !=4:\n",
        "  print (prompt)\n",
        "  number = int(input())"
      ],
      "execution_count": null,
      "outputs": [
        {
          "output_type": "stream",
          "text": [
            "\n",
            "1. add\n",
            "2. del\n",
            "3. list\n",
            "4. quit\n",
            "\n",
            "Enter number: \n",
            "2\n",
            "\n",
            "1. add\n",
            "2. del\n",
            "3. list\n",
            "4. quit\n",
            "\n",
            "Enter number: \n",
            "4\n"
          ],
          "name": "stdout"
        }
      ]
    },
    {
      "cell_type": "code",
      "metadata": {
        "colab": {
          "base_uri": "https://localhost:8080/"
        },
        "id": "HspPTi5Zu_xP",
        "outputId": "c0eee1cd-7f4d-428c-d0d4-236a9b1c0fce"
      },
      "source": [
        "coffee = 10\n",
        "while True:\n",
        "  money = int(input ('돈을 넣어 주세요: '))\n",
        "  if money == 300:\n",
        "    print ('커피를 줍니다.')\n",
        "    coffee= coffee -1\n",
        "  elif money > 300:\n",
        "    print ('거스름돈 %d를 돌려주고 커피를 줍니다.' % (money - 300))\n",
        "    coffee = coffee -1\n",
        "  else:\n",
        "    print ('돈을 돌려주고 커피를 주지 않는다')\n",
        "    print ('남은 커피의 양은 %d개 입니다. ' % coffee)\n",
        "  if coffee == 0:\n",
        "    print ('커피가 다 떨어졌습니다. 판매를 중지합니다.')\n",
        "    break"
      ],
      "execution_count": null,
      "outputs": [
        {
          "output_type": "stream",
          "text": [
            "돈을 넣어 주세요: 500\n",
            "거스름돈 200를 돌려주고 커피를 줍니다.\n",
            "돈을 넣어 주세요: 300\n",
            "커피를 줍니다.\n",
            "돈을 넣어 주세요: 100\n",
            "돈을 돌려주고 커피를 주지 않는다\n",
            "남은 커피의 양은 8개 입니다. \n",
            "돈을 넣어 주세요: 1000\n",
            "거스름돈 700를 돌려주고 커피를 줍니다.\n",
            "돈을 넣어 주세요: 300\n",
            "커피를 줍니다.\n",
            "돈을 넣어 주세요: 400\n",
            "거스름돈 100를 돌려주고 커피를 줍니다.\n",
            "돈을 넣어 주세요: 200\n",
            "돈을 돌려주고 커피를 주지 않는다\n",
            "남은 커피의 양은 5개 입니다. \n",
            "돈을 넣어 주세요: 1000\n",
            "거스름돈 700를 돌려주고 커피를 줍니다.\n",
            "돈을 넣어 주세요: 300000\n",
            "거스름돈 299700를 돌려주고 커피를 줍니다.\n",
            "돈을 넣어 주세요: 394\n",
            "거스름돈 94를 돌려주고 커피를 줍니다.\n",
            "돈을 넣어 주세요: 300\n",
            "커피를 줍니다.\n",
            "돈을 넣어 주세요: 100\n",
            "돈을 돌려주고 커피를 주지 않는다\n",
            "남은 커피의 양은 1개 입니다. \n",
            "돈을 넣어 주세요: 399\n",
            "거스름돈 99를 돌려주고 커피를 줍니다.\n",
            "커피가 다 떨어졌습니다. 판매를 중지합니다.\n"
          ],
          "name": "stdout"
        }
      ]
    },
    {
      "cell_type": "code",
      "metadata": {
        "colab": {
          "base_uri": "https://localhost:8080/"
        },
        "id": "3oa2tkCPxHGE",
        "outputId": "4e2ad395-fcd1-4ad3-f63c-901d552570de"
      },
      "source": [
        "a= 0\n",
        "while a<10:\n",
        "  a= a+1\n",
        "  if a % 2 == 0: continue\n",
        "  print (a)"
      ],
      "execution_count": null,
      "outputs": [
        {
          "output_type": "stream",
          "text": [
            "1\n",
            "3\n",
            "5\n",
            "7\n",
            "9\n"
          ],
          "name": "stdout"
        }
      ]
    },
    {
      "cell_type": "code",
      "metadata": {
        "id": "21jn7uS91BGL",
        "colab": {
          "base_uri": "https://localhost:8080/"
        },
        "outputId": "553eec23-02d3-44b3-8f23-f0df2b8a19b9"
      },
      "source": [
        "sujeong = [ 'one', 'two', 'three']\n",
        "for i in sujeong:\n",
        "  print (i)"
      ],
      "execution_count": null,
      "outputs": [
        {
          "output_type": "stream",
          "text": [
            "one\n",
            "two\n",
            "three\n"
          ],
          "name": "stdout"
        }
      ]
    },
    {
      "cell_type": "code",
      "metadata": {
        "id": "OL_qXibd2qVG",
        "colab": {
          "base_uri": "https://localhost:8080/"
        },
        "outputId": "76762e48-a7f0-46fc-a4ab-4d32cc20a1f7"
      },
      "source": [
        "print (3)"
      ],
      "execution_count": null,
      "outputs": [
        {
          "output_type": "stream",
          "text": [
            "3\n"
          ],
          "name": "stdout"
        }
      ]
    },
    {
      "cell_type": "code",
      "metadata": {
        "id": "pVHvv7Cl3Cgw",
        "colab": {
          "base_uri": "https://localhost:8080/"
        },
        "outputId": "23223608-5f20-4b22-db21-c50eb7e759e7"
      },
      "source": [
        "print ('helloworld')"
      ],
      "execution_count": null,
      "outputs": [
        {
          "output_type": "stream",
          "text": [
            "helloworld\n"
          ],
          "name": "stdout"
        }
      ]
    },
    {
      "cell_type": "code",
      "metadata": {
        "colab": {
          "base_uri": "https://localhost:8080/"
        },
        "id": "8qDz8Zv_-6XK",
        "outputId": "a96b7a08-0ad2-4351-bb36-1be6d3cf0bed"
      },
      "source": [
        "marks = [ 100, 80, 40, 50, 70]\n",
        "\n",
        "number = 0\n",
        "for mark in marks:\n",
        "  number = number +1\n",
        "  if mark >= 60:\n",
        "    print ('%d번 학생은 합격입니다.' % number)\n",
        "  else:\n",
        "      print ('%d번 학생은 불합격입니다.' %number)"
      ],
      "execution_count": null,
      "outputs": [
        {
          "output_type": "stream",
          "text": [
            "1번 학생은 합격입니다.\n",
            "2번 학생은 합격입니다.\n",
            "3번 학생은 불합격입니다.\n",
            "4번 학생은 불합격입니다.\n",
            "5번 학생은 합격입니다.\n"
          ],
          "name": "stdout"
        }
      ]
    },
    {
      "cell_type": "code",
      "metadata": {
        "id": "JZGhfVUNBQPP",
        "colab": {
          "base_uri": "https://localhost:8080/"
        },
        "outputId": "b4b7d704-7c7c-4325-f8b3-4e537b31a1a1"
      },
      "source": [
        "marks = [90, 25, 67, 45, 80]\n",
        "for number in range(len(marks)):\n",
        "    if marks[number] < 60: \n",
        "        continue\n",
        "    print(\"%d번 학생 축하합니다. 합격입니다.\" % (number+1))"
      ],
      "execution_count": null,
      "outputs": [
        {
          "output_type": "stream",
          "text": [
            "1번 학생 축하합니다. 합격입니다.\n",
            "3번 학생 축하합니다. 합격입니다.\n",
            "5번 학생 축하합니다. 합격입니다.\n"
          ],
          "name": "stdout"
        }
      ]
    },
    {
      "cell_type": "code",
      "metadata": {
        "id": "AHU4bCMaCFSV",
        "colab": {
          "base_uri": "https://localhost:8080/"
        },
        "outputId": "3124d258-2ec3-4301-a790-1590df3901a5"
      },
      "source": [
        "marks = [100, 20, 50, 60, 70]\n",
        "for number in range(len(marks)):\n",
        "  if marks[number] < 60:\n",
        "    continue\n",
        "  print('%d번 학생 축하합니다. 합격입니다.' % (number+1))"
      ],
      "execution_count": null,
      "outputs": [
        {
          "output_type": "stream",
          "text": [
            "1번 학생 축하합니다. 합격입니다.\n",
            "4번 학생 축하합니다. 합격입니다.\n",
            "5번 학생 축하합니다. 합격입니다.\n"
          ],
          "name": "stdout"
        }
      ]
    },
    {
      "cell_type": "code",
      "metadata": {
        "colab": {
          "base_uri": "https://localhost:8080/"
        },
        "id": "7sYhOo-rFvNH",
        "outputId": "795d7164-3048-4b50-d02b-c185d88d0c5c"
      },
      "source": [
        "for i in range(2,10):\n",
        "  for j in range(1,10):\n",
        "    print(i*j, end=\" \")\n",
        "  print(' ')"
      ],
      "execution_count": null,
      "outputs": [
        {
          "output_type": "stream",
          "text": [
            "2 4 6 8 10 12 14 16 18  \n",
            "3 6 9 12 15 18 21 24 27  \n",
            "4 8 12 16 20 24 28 32 36  \n",
            "5 10 15 20 25 30 35 40 45  \n",
            "6 12 18 24 30 36 42 48 54  \n",
            "7 14 21 28 35 42 49 56 63  \n",
            "8 16 24 32 40 48 56 64 72  \n",
            "9 18 27 36 45 54 63 72 81  \n"
          ],
          "name": "stdout"
        }
      ]
    },
    {
      "cell_type": "code",
      "metadata": {
        "id": "nokYhU9cGLOO",
        "colab": {
          "base_uri": "https://localhost:8080/"
        },
        "outputId": "dea404e0-944c-4fad-ab8e-7786fdb6aaf7"
      },
      "source": [
        "a=[1, 2, 3, 4]\n",
        "result=[num*3 for num in a if num > 2]\n",
        "print(result)"
      ],
      "execution_count": null,
      "outputs": [
        {
          "output_type": "stream",
          "text": [
            "[9, 12]\n"
          ],
          "name": "stdout"
        }
      ]
    },
    {
      "cell_type": "code",
      "metadata": {
        "colab": {
          "base_uri": "https://localhost:8080/"
        },
        "id": "BmNyD1FiHukl",
        "outputId": "e817a81b-f6ce-4bb3-eaaf-79faa73e7455"
      },
      "source": [
        "a='Life is too short, you need python'\n",
        "if 'wife' in a: print('wift')\n",
        "elif 'python' in a and 'you' not in a: print('python')\n",
        "elif 'shirt' not in a: print('shirt')\n",
        "elif 'need' in a: print('need')\n",
        "else: print('none')"
      ],
      "execution_count": null,
      "outputs": [
        {
          "output_type": "stream",
          "text": [
            "shirt\n"
          ],
          "name": "stdout"
        }
      ]
    },
    {
      "cell_type": "code",
      "metadata": {
        "colab": {
          "base_uri": "https://localhost:8080/"
        },
        "id": "NAJRe8xiitAA",
        "outputId": "f47cfec0-bbc1-474e-9709-68ce26915e15"
      },
      "source": [
        "i=0\n",
        "a=0\n",
        "while a<=1000:\n",
        "  a=a+1\n",
        "  if a%3==0:\n",
        "    i=i+a\n",
        "\n",
        "print(i)"
      ],
      "execution_count": null,
      "outputs": [
        {
          "output_type": "stream",
          "text": [
            "166833\n"
          ],
          "name": "stdout"
        }
      ]
    },
    {
      "cell_type": "code",
      "metadata": {
        "colab": {
          "base_uri": "https://localhost:8080/"
        },
        "id": "shfVzr1XAMG7",
        "outputId": "7db36f4f-3c22-418d-b503-a295970f166c"
      },
      "source": [
        "a=0\n",
        "while a<5:\n",
        "  a=a+1\n",
        "  print('*'*a)"
      ],
      "execution_count": 37,
      "outputs": [
        {
          "output_type": "stream",
          "text": [
            "*\n",
            "**\n",
            "***\n",
            "****\n",
            "*****\n"
          ],
          "name": "stdout"
        }
      ]
    },
    {
      "cell_type": "code",
      "metadata": {
        "colab": {
          "base_uri": "https://localhost:8080/"
        },
        "id": "Uvv_TydBB0WB",
        "outputId": "0cdbaac0-8d33-4ca4-cb0f-1345993ba9c3"
      },
      "source": [
        "for i in range(1,101):\n",
        "  print(i)"
      ],
      "execution_count": 41,
      "outputs": [
        {
          "output_type": "stream",
          "text": [
            "1\n",
            "2\n",
            "3\n",
            "4\n",
            "5\n",
            "6\n",
            "7\n",
            "8\n",
            "9\n",
            "10\n",
            "11\n",
            "12\n",
            "13\n",
            "14\n",
            "15\n",
            "16\n",
            "17\n",
            "18\n",
            "19\n",
            "20\n",
            "21\n",
            "22\n",
            "23\n",
            "24\n",
            "25\n",
            "26\n",
            "27\n",
            "28\n",
            "29\n",
            "30\n",
            "31\n",
            "32\n",
            "33\n",
            "34\n",
            "35\n",
            "36\n",
            "37\n",
            "38\n",
            "39\n",
            "40\n",
            "41\n",
            "42\n",
            "43\n",
            "44\n",
            "45\n",
            "46\n",
            "47\n",
            "48\n",
            "49\n",
            "50\n",
            "51\n",
            "52\n",
            "53\n",
            "54\n",
            "55\n",
            "56\n",
            "57\n",
            "58\n",
            "59\n",
            "60\n",
            "61\n",
            "62\n",
            "63\n",
            "64\n",
            "65\n",
            "66\n",
            "67\n",
            "68\n",
            "69\n",
            "70\n",
            "71\n",
            "72\n",
            "73\n",
            "74\n",
            "75\n",
            "76\n",
            "77\n",
            "78\n",
            "79\n",
            "80\n",
            "81\n",
            "82\n",
            "83\n",
            "84\n",
            "85\n",
            "86\n",
            "87\n",
            "88\n",
            "89\n",
            "90\n",
            "91\n",
            "92\n",
            "93\n",
            "94\n",
            "95\n",
            "96\n",
            "97\n",
            "98\n",
            "99\n",
            "100\n"
          ],
          "name": "stdout"
        }
      ]
    },
    {
      "cell_type": "code",
      "metadata": {
        "colab": {
          "base_uri": "https://localhost:8080/"
        },
        "id": "qUV6bdHCCHkI",
        "outputId": "aaed0bd8-4299-4c9a-cc86-b7e67318f715"
      },
      "source": [
        "a=[70, 60, 55, 75, 95, 90, 80, 80, 85, 100]\n",
        "add=0\n",
        "\n",
        "for i in a: \n",
        "  add=add+i\n",
        "print(add/10)"
      ],
      "execution_count": 34,
      "outputs": [
        {
          "output_type": "stream",
          "text": [
            "79.0\n"
          ],
          "name": "stdout"
        }
      ]
    },
    {
      "cell_type": "code",
      "metadata": {
        "id": "BovYCkkoEfig",
        "colab": {
          "base_uri": "https://localhost:8080/"
        },
        "outputId": "be0d259b-41a8-494c-e940-73d9c2cf4818"
      },
      "source": [
        "numbers=[1, 2, 3, 4, 5]\n",
        "result=[n*2 for n in numbers if n%2==1]\n",
        "print(result)"
      ],
      "execution_count": 36,
      "outputs": [
        {
          "output_type": "stream",
          "text": [
            "[2, 6, 10]\n"
          ],
          "name": "stdout"
        }
      ]
    },
    {
      "cell_type": "code",
      "metadata": {
        "id": "5wpIoOltKqHo"
      },
      "source": [
        "def sujeong(a,b):\n",
        "  eomsujeong=a*b\n",
        "  return print(eomsujeong)"
      ],
      "execution_count": 44,
      "outputs": []
    },
    {
      "cell_type": "code",
      "metadata": {
        "colab": {
          "base_uri": "https://localhost:8080/"
        },
        "id": "rDUYQLHjOPTh",
        "outputId": "9ead3406-d0d9-4df9-bde9-624ef27b7f45"
      },
      "source": [
        "c=sujeong(4, 5)"
      ],
      "execution_count": 46,
      "outputs": [
        {
          "output_type": "stream",
          "text": [
            "20\n"
          ],
          "name": "stdout"
        }
      ]
    },
    {
      "cell_type": "code",
      "metadata": {
        "id": "hqEkUtjnOaGp"
      },
      "source": [
        "def add_many(*args):\n",
        "  result=0\n",
        "  for i in args:\n",
        "    result+=i\n",
        "  return result\n",
        "\n",
        "result=add_many(1, 2, 3, 4, 5)"
      ],
      "execution_count": 52,
      "outputs": []
    },
    {
      "cell_type": "code",
      "metadata": {
        "colab": {
          "base_uri": "https://localhost:8080/"
        },
        "id": "1nJEK42aQfkQ",
        "outputId": "87c3227e-7511-4166-99bf-a140129b5db2"
      },
      "source": [
        "print(result)"
      ],
      "execution_count": 53,
      "outputs": [
        {
          "output_type": "stream",
          "text": [
            "15\n"
          ],
          "name": "stdout"
        }
      ]
    },
    {
      "cell_type": "code",
      "metadata": {
        "colab": {
          "base_uri": "https://localhost:8080/"
        },
        "id": "Cdz8mDspQqHI",
        "outputId": "ccccf1ae-cfa8-4ef8-f8fb-147e55058918"
      },
      "source": [
        "def add_and_mul(a,b):\n",
        "  return a+b, a*b\n",
        "\n",
        "c=add_and_mul(4, 5)\n",
        "c"
      ],
      "execution_count": 57,
      "outputs": [
        {
          "output_type": "execute_result",
          "data": {
            "text/plain": [
              "(9, 20)"
            ]
          },
          "metadata": {
            "tags": []
          },
          "execution_count": 57
        }
      ]
    },
    {
      "cell_type": "code",
      "metadata": {
        "colab": {
          "base_uri": "https://localhost:8080/"
        },
        "id": "woR7qmKJR67D",
        "outputId": "fc2fc953-826d-4f4b-8bba-5b7fdbb65090"
      },
      "source": [
        "def say_nick(nick):\n",
        "  if nick=='바보':\n",
        "      return\n",
        "  print('나의 별명은 %s입니다'% nick)\n",
        "\n",
        "say_nick('sujeong')"
      ],
      "execution_count": 60,
      "outputs": [
        {
          "output_type": "stream",
          "text": [
            "나의 별명은 sujeong입니다\n"
          ],
          "name": "stdout"
        }
      ]
    },
    {
      "cell_type": "code",
      "metadata": {
        "id": "HGu3Od27TZ0B"
      },
      "source": [
        "say_nick('바보')"
      ],
      "execution_count": 61,
      "outputs": []
    },
    {
      "cell_type": "code",
      "metadata": {
        "id": "pysl1F_LTjti"
      },
      "source": [
        "def sujeong(a):\n",
        "  a=a+1\n",
        "  a=sujeong(4)\n",
        "  print(a)"
      ],
      "execution_count": 65,
      "outputs": []
    },
    {
      "cell_type": "code",
      "metadata": {
        "id": "RBYnfpe9U74J"
      },
      "source": [
        ""
      ],
      "execution_count": 64,
      "outputs": []
    }
  ]
}